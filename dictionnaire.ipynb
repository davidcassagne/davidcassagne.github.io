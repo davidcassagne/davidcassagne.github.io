{
 "cells": [
  {
   "cell_type": "markdown",
   "metadata": {},
   "source": [
    "# Dictionnaires en Python"
   ]
  },
  {
   "cell_type": "markdown",
   "metadata": {},
   "source": [
    "Comme on l'a vu avec les listes et les tuples, à partir des types de base (*int*, *float*, etc.) il est possible d'élaborer de nouveaux types qu'on appelle des *types construits*.\n",
    "\n",
    "Un nouvel exemple de *type construit* est le **dictionnaire**.\n",
    "\n",
    "Les éléments d'une liste ou d'un tuple sont ordonnés et on accéde à un élément grâce à sa position en utilisant un numéro qu'on appelle l'**indice** de l'élément.\n",
    "\n",
    "Un **dictionnaire** en Python va aussi permettre de rassembler des éléments mais ceux-ci seront identifiés par une **clé**. On peut faire l'analogie avec un dictionnaire de français où on accède à une définition avec un mot.\n",
    "\n",
    "Contrairement aux listes qui sont délimitées par des crochets, on utilise des **accolades** pour les dictionnaires."
   ]
  },
  {
   "cell_type": "code",
   "execution_count": 1,
   "metadata": {},
   "outputs": [],
   "source": [
    "mon_dictionnaire = {\"voiture\": \"véhicule à quatre roues\", \"vélo\": \"véhicule à deux roues\"}"
   ]
  },
  {
   "cell_type": "markdown",
   "metadata": {},
   "source": [
    "Un élément a été défini ci-dessus dans le dictionnaire en précisant une **clé** au moyen d'une chaîne de caractères suivie de ``:`` puis de la **valeur** associée \n",
    "\n",
    "*clé*: *valeur*\n",
    "\n",
    "On accède à une **valeur** du dictionnaire en utilisant la **clé** entourée par des crochets avec la syntaxe suivante :"
   ]
  },
  {
   "cell_type": "code",
   "execution_count": 2,
   "metadata": {},
   "outputs": [],
   "source": [
    "mon_dictionnaire[\"voiture\"]"
   ]
  },
  {
   "cell_type": "markdown",
   "metadata": {},
   "source": [
    "## Comment construire une entrée dans un dictionnaire ?"
   ]
  },
  {
   "cell_type": "markdown",
   "metadata": {},
   "source": [
    "Il est très facile d'ajouter un élément à un dictionnaire. Il suffit d'affecter une **valeur** pour la nouvelle **clé**."
   ]
  },
  {
   "cell_type": "code",
   "execution_count": 3,
   "metadata": {},
   "outputs": [],
   "source": [
    "mon_dictionnaire[\"tricycle\"] = \"véhicule à trois roues\""
   ]
  },
  {
   "cell_type": "code",
   "execution_count": 4,
   "metadata": {},
   "outputs": [],
   "source": [
    "mon_dictionnaire"
   ]
  },
  {
   "cell_type": "markdown",
   "metadata": {},
   "source": [
    "Le *type* d'un dictionnaire est ``dict``."
   ]
  },
  {
   "cell_type": "code",
   "execution_count": 5,
   "metadata": {},
   "outputs": [],
   "source": [
    "type(mon_dictionnaire)"
   ]
  },
  {
   "cell_type": "markdown",
   "metadata": {},
   "source": [
    "Il est aussi possible d'utiliser des valeurs d'autres types.\n",
    "\n",
    "Voici un exemple où les valeurs sont des entiers."
   ]
  },
  {
   "cell_type": "code",
   "execution_count": 6,
   "metadata": {},
   "outputs": [],
   "source": [
    "nombre_de_roues = {\"voiture\": 4, \"vélo\": 2}"
   ]
  },
  {
   "cell_type": "code",
   "execution_count": 7,
   "metadata": {},
   "outputs": [],
   "source": [
    "type(nombre_de_roues)"
   ]
  },
  {
   "cell_type": "code",
   "execution_count": 8,
   "metadata": {},
   "outputs": [],
   "source": [
    " nombre_de_roues[\"vélo\"]"
   ]
  },
  {
   "cell_type": "markdown",
   "metadata": {},
   "source": [
    "## Comment créer un dictionnaire ?"
   ]
  },
  {
   "cell_type": "markdown",
   "metadata": {},
   "source": [
    "Nous avons vu ci-dessous qu'il était possible de créer un dictionnaire avec des **accolades** qui entourent les éléments. Une autre approche possible consiste à créer un dictionnaire vide et à ajouter les éléments au fur et à mesure."
   ]
  },
  {
   "cell_type": "code",
   "execution_count": 9,
   "metadata": {},
   "outputs": [],
   "source": [
    "nombre_de_pneus = {}\n",
    "nombre_de_pneus[\"voiture\"] = 4\n",
    "nombre_de_pneus[\"vélo\"] = 2"
   ]
  },
  {
   "cell_type": "code",
   "execution_count": 10,
   "metadata": {},
   "outputs": [],
   "source": [
    "nombre_de_pneus"
   ]
  },
  {
   "cell_type": "markdown",
   "metadata": {},
   "source": [
    "## Comment parcourir un dictionnaire ?"
   ]
  },
  {
   "cell_type": "markdown",
   "metadata": {},
   "source": [
    "On utilise `items()`.\n",
    "\n",
    "**Exemple pour une boucle for avec un indice i**"
   ]
  },
  {
   "cell_type": "code",
   "execution_count": 11,
   "metadata": {},
   "outputs": [
    {
     "name": "stdout",
     "output_type": "stream",
     "text": [
      "('voiture', 4)\n",
      "('vélo', 2)\n",
      "('tricycle', 3)\n"
     ]
    }
   ],
   "source": [
    "nombre_de_roues = {\"voiture\": 4, \"vélo\": 2, \"tricycle\": 3}\n",
    "\n",
    "for i in nombre_de_roues.items():\n",
    "    print(i)"
   ]
  },
  {
   "cell_type": "markdown",
   "metadata": {},
   "source": [
    "**Autre exemple pour une boucle for avec deux indices : cle et valeur**"
   ]
  },
  {
   "cell_type": "code",
   "execution_count": 12,
   "metadata": {},
   "outputs": [
    {
     "name": "stdout",
     "output_type": "stream",
     "text": [
      "l'élément de clé voiture vaut 4\n",
      "l'élément de clé vélo vaut 2\n",
      "l'élément de clé tricycle vaut 3\n"
     ]
    }
   ],
   "source": [
    " for cle, valeur in nombre_de_roues.items():\n",
    "        print(\"l'élément de clé\", cle, \"vaut\", valeur)"
   ]
  }
 ],
 "metadata": {
  "kernelspec": {
   "display_name": "Python 3",
   "language": "python",
   "name": "python3"
  },
  "language_info": {
   "codemirror_mode": {
    "name": "ipython",
    "version": 3
   },
   "file_extension": ".py",
   "mimetype": "text/x-python",
   "name": "python",
   "nbconvert_exporter": "python",
   "pygments_lexer": "ipython3",
   "version": "3.8.3"
  }
 },
 "nbformat": 4,
 "nbformat_minor": 2
}
