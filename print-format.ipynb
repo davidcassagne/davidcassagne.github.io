{
 "cells": [
  {
   "cell_type": "markdown",
   "metadata": {},
   "source": [
    "# Mettre en forme des chaînes de caractères en Python"
   ]
  },
  {
   "cell_type": "markdown",
   "metadata": {},
   "source": [
    "Dans cette page, vous apprendrez à mettre en forme des chaînes de caractères. Ceci est utile quand vous avez à mettre en forme l'affichage de nombres. Par exemple, si vous voulez afficher un montant en euros avec deux chiffres après la virgule. \n",
    "\n",
    "Cette page est inspirée par les sites https://pyformat.info/ et https://python.sdv.univ-paris-diderot.fr/03_affichage/.\n",
    "\n",
    "**Exemple** "
   ]
  },
  {
   "cell_type": "code",
   "execution_count": 3,
   "metadata": {},
   "outputs": [
    {
     "name": "stdout",
     "output_type": "stream",
     "text": [
      "Le montant est 21.00 euros\n"
     ]
    }
   ],
   "source": [
    "montant = 21\n",
    "print( \"Le montant est {:.2f} euros\".format(montant) )"
   ]
  },
  {
   "cell_type": "markdown",
   "metadata": {},
   "source": [
    "## Comment préciser la mise en forme avec ``format`` ?"
   ]
  },
  {
   "cell_type": "markdown",
   "metadata": {},
   "source": [
    "Pour préciser la mise en forme d'une chaîne de caractères, on utilise la méthode ``format()``.\n",
    "\n",
    "Dans un premier exemple, nous allons chercher à afficher la valeur d'une variable au sein d'une chaîne de caractères. On précise la position où doit apparaître la valeur grâce à des accolades ``{}`` et on indique la variable comme argument de la méthode ``format()``.\n",
    "\n",
    "**Exemple**"
   ]
  },
  {
   "cell_type": "code",
   "execution_count": 4,
   "metadata": {},
   "outputs": [
    {
     "name": "stdout",
     "output_type": "stream",
     "text": [
      "La valeur est 5\n"
     ]
    }
   ],
   "source": [
    "a = 5\n",
    "print( \"La valeur est {}\".format(a) )"
   ]
  },
  {
   "cell_type": "markdown",
   "metadata": {},
   "source": [
    "Il est possible d'afficher plusieurs variables :"
   ]
  },
  {
   "cell_type": "code",
   "execution_count": 5,
   "metadata": {},
   "outputs": [
    {
     "name": "stdout",
     "output_type": "stream",
     "text": [
      "Les valeurs sont 5 et 8\n"
     ]
    }
   ],
   "source": [
    "b = 8\n",
    "print( \"Les valeurs sont {} et {}\".format(a, b) )"
   ]
  },
  {
   "cell_type": "markdown",
   "metadata": {},
   "source": [
    "Si on souhaite préciser un format pour la chaîne produite, on utile ``:`` suivi des paramètres de formattage. Par exemple, il possible d'indiquer un nombre entier qui précise le nombre de caractères qui vont être occupés par la valeur transmise à ``format``.\n",
    "\n",
    "**Exemple**"
   ]
  },
  {
   "cell_type": "code",
   "execution_count": 9,
   "metadata": {},
   "outputs": [
    {
     "name": "stdout",
     "output_type": "stream",
     "text": [
      "Les valeurs sont          5 et          8\n"
     ]
    }
   ],
   "source": [
    "print( \"Les valeurs sont {:10} et {:10}\".format(a, b) )"
   ]
  },
  {
   "cell_type": "markdown",
   "metadata": {},
   "source": [
    "Il est possible d'aligner à gauche en utilisant le signe inférieur ``<``."
   ]
  },
  {
   "cell_type": "code",
   "execution_count": 10,
   "metadata": {},
   "outputs": [
    {
     "name": "stdout",
     "output_type": "stream",
     "text": [
      "Les valeurs sont 5          et 8         \n"
     ]
    }
   ],
   "source": [
    "print( \"Les valeurs sont {:<10} et {:<10}\".format(a, b) )"
   ]
  },
  {
   "cell_type": "markdown",
   "metadata": {},
   "source": [
    "Pour centrer, on utilise le caractère ``^``."
   ]
  },
  {
   "cell_type": "code",
   "execution_count": 11,
   "metadata": {},
   "outputs": [
    {
     "name": "stdout",
     "output_type": "stream",
     "text": [
      "Les valeurs sont     5      et     8     \n"
     ]
    }
   ],
   "source": [
    "print( \"Les valeurs sont {:^10} et {:^10}\".format(a, b) )"
   ]
  },
  {
   "cell_type": "markdown",
   "metadata": {},
   "source": [
    "Si on veut afficher la valeur sous forme de nombre à virgule (float), on utilise ``f`` dans l'accolade. "
   ]
  },
  {
   "cell_type": "code",
   "execution_count": 6,
   "metadata": {},
   "outputs": [
    {
     "name": "stdout",
     "output_type": "stream",
     "text": [
      "La valeur est 5.000000\n"
     ]
    }
   ],
   "source": [
    "print( \"La valeur est {:f}\".format(a) )"
   ]
  },
  {
   "cell_type": "code",
   "execution_count": 7,
   "metadata": {},
   "outputs": [
    {
     "name": "stdout",
     "output_type": "stream",
     "text": [
      "La valeur est 5\n"
     ]
    }
   ],
   "source": [
    "print( \"La valeur est {:d}\".format(a) )"
   ]
  },
  {
   "cell_type": "code",
   "execution_count": 8,
   "metadata": {},
   "outputs": [
    {
     "name": "stdout",
     "output_type": "stream",
     "text": [
      "Les valeurs sont 5.000000 et 8.000000\n"
     ]
    }
   ],
   "source": [
    "print( \"Les valeurs sont {:f} et {:f}\".format(a, b) )"
   ]
  },
  {
   "cell_type": "code",
   "execution_count": 12,
   "metadata": {},
   "outputs": [
    {
     "name": "stdout",
     "output_type": "stream",
     "text": [
      "La valeur est 123.123456789\n"
     ]
    }
   ],
   "source": [
    "toto = 123.123456789\n",
    "print( \"La valeur est {}\".format(toto) )"
   ]
  },
  {
   "cell_type": "code",
   "execution_count": 13,
   "metadata": {},
   "outputs": [
    {
     "name": "stdout",
     "output_type": "stream",
     "text": [
      "La valeur est 123.123456789\n"
     ]
    }
   ],
   "source": [
    "print( \"La valeur est {:10}\".format(toto) )"
   ]
  },
  {
   "cell_type": "markdown",
   "metadata": {},
   "source": [
    "On constate que cela ne change rien. \n",
    "\n",
    "Par contre, il est possible de réduire la longueur affichée avec un ``.`` devant un entier"
   ]
  },
  {
   "cell_type": "code",
   "execution_count": 14,
   "metadata": {},
   "outputs": [
    {
     "name": "stdout",
     "output_type": "stream",
     "text": [
      "La valeur est 123.12\n"
     ]
    }
   ],
   "source": [
    "print( \"La valeur est {:.5}\".format(toto) )"
   ]
  },
  {
   "cell_type": "code",
   "execution_count": 15,
   "metadata": {},
   "outputs": [
    {
     "name": "stdout",
     "output_type": "stream",
     "text": [
      "La valeur est     123.12\n"
     ]
    }
   ],
   "source": [
    "print( \"La valeur est {:10.5}\".format(toto) )"
   ]
  },
  {
   "cell_type": "code",
   "execution_count": 16,
   "metadata": {},
   "outputs": [
    {
     "name": "stdout",
     "output_type": "stream",
     "text": [
      "La valeur est 123.123457\n"
     ]
    }
   ],
   "source": [
    "print( \"La valeur est {:f}\".format(toto) )"
   ]
  },
  {
   "cell_type": "code",
   "execution_count": 17,
   "metadata": {},
   "outputs": [
    {
     "name": "stdout",
     "output_type": "stream",
     "text": [
      "La valeur est 123.12346\n"
     ]
    }
   ],
   "source": [
    "print( \"La valeur est {:.5f}\".format(toto) )"
   ]
  },
  {
   "cell_type": "code",
   "execution_count": 18,
   "metadata": {},
   "outputs": [
    {
     "name": "stdout",
     "output_type": "stream",
     "text": [
      "La valeur est  123.12346\n"
     ]
    }
   ],
   "source": [
    "print( \"La valeur est {:10.5f}\".format(toto) )"
   ]
  },
  {
   "cell_type": "code",
   "execution_count": null,
   "metadata": {},
   "outputs": [],
   "source": []
  }
 ],
 "metadata": {
  "kernelspec": {
   "display_name": "Python 3",
   "language": "python",
   "name": "python3"
  },
  "language_info": {
   "codemirror_mode": {
    "name": "ipython",
    "version": 3
   },
   "file_extension": ".py",
   "mimetype": "text/x-python",
   "name": "python",
   "nbconvert_exporter": "python",
   "pygments_lexer": "ipython3",
   "version": "3.8.3"
  }
 },
 "nbformat": 4,
 "nbformat_minor": 4
}
